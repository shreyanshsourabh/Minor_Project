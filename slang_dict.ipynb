{
 "cells": [
  {
   "cell_type": "code",
   "execution_count": 1,
   "id": "fce78c30",
   "metadata": {},
   "outputs": [],
   "source": [
    "import requests"
   ]
  },
  {
   "cell_type": "code",
   "execution_count": 5,
   "id": "28370a09",
   "metadata": {},
   "outputs": [],
   "source": [
    "# Replace 'path_to_slang_file' with the actual file path\n",
    "file_path = 'slang.txt'\n"
   ]
  },
  {
   "cell_type": "code",
   "execution_count": 6,
   "id": "b72dab2a",
   "metadata": {},
   "outputs": [],
   "source": [
    "# Read the slang data from the local file\n",
    "with open(file_path, 'r', encoding='utf-8') as file:\n",
    "    slang_data = file.read()\n"
   ]
  },
  {
   "cell_type": "code",
   "execution_count": 11,
   "id": "d49c61c4",
   "metadata": {},
   "outputs": [],
   "source": [
    "# Process the slang data and create a dictionary\n",
    "slang_dict = {}\n",
    "for line in slang_data.split('\\n'):\n",
    "    line = line.strip()\n",
    "    if line:\n",
    "        parts = line.split('=')\n",
    "        abbreviation = parts[0].strip()\n",
    "        full_form = parts[1].strip() if len(parts) > 1 else \"\"  # Handle lines with no full form\n",
    "        slang_dict[abbreviation] = full_form\n"
   ]
  },
  {
   "cell_type": "code",
   "execution_count": 12,
   "id": "efb78739",
   "metadata": {},
   "outputs": [
    {
     "name": "stdout",
     "output_type": "stream",
     "text": [
      "As Far As I Know\n"
     ]
    }
   ],
   "source": [
    "print(slang_dict[\"AFAIK\"])  # Output: \"As Far As I Know\"\n"
   ]
  },
  {
   "cell_type": "code",
   "execution_count": null,
   "id": "3fc3c2e1",
   "metadata": {},
   "outputs": [],
   "source": [
    " \n"
   ]
  },
  {
   "cell_type": "code",
   "execution_count": null,
   "id": "65ca0157",
   "metadata": {},
   "outputs": [],
   "source": []
  }
 ],
 "metadata": {
  "kernelspec": {
   "display_name": "Python 3",
   "language": "python",
   "name": "python3"
  },
  "language_info": {
   "codemirror_mode": {
    "name": "ipython",
    "version": 3
   },
   "file_extension": ".py",
   "mimetype": "text/x-python",
   "name": "python",
   "nbconvert_exporter": "python",
   "pygments_lexer": "ipython3",
   "version": "3.8.8"
  }
 },
 "nbformat": 4,
 "nbformat_minor": 5
}
